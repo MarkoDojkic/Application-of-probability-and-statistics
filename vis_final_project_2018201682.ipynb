{
 "cells": [
  {
   "cell_type": "markdown",
   "metadata": {},
   "source": [
    "# <center>Verovatnoća i statistika - Završni projekat</center>\n",
    "## <center>Marko Dojkić 2018/201682, SII Beograd</center>\n",
    "### <center>Podaci o najgledanijim video sadržajma sa Youtube platforme (na dan 14.11.2017.) u SAD-u</center>"
   ]
  },
  {
   "cell_type": "code",
   "execution_count": 13,
   "metadata": {},
   "outputs": [
    {
     "data": {
      "text/html": [
       "<div>\n",
       "<style scoped>\n",
       "    .dataframe tbody tr th:only-of-type {\n",
       "        vertical-align: middle;\n",
       "    }\n",
       "\n",
       "    .dataframe tbody tr th {\n",
       "        vertical-align: top;\n",
       "    }\n",
       "\n",
       "    .dataframe thead th {\n",
       "        text-align: right;\n",
       "    }\n",
       "</style>\n",
       "<table border=\"1\" class=\"dataframe\">\n",
       "  <thead>\n",
       "    <tr style=\"text-align: right;\">\n",
       "      <th></th>\n",
       "      <th>video_id</th>\n",
       "      <th>trending_date</th>\n",
       "      <th>title</th>\n",
       "      <th>channel_title</th>\n",
       "      <th>category_id</th>\n",
       "      <th>publish_time</th>\n",
       "      <th>tags</th>\n",
       "      <th>views</th>\n",
       "      <th>likes</th>\n",
       "      <th>dislikes</th>\n",
       "      <th>comment_count</th>\n",
       "      <th>thumbnail_link</th>\n",
       "      <th>comments_disabled</th>\n",
       "      <th>ratings_disabled</th>\n",
       "      <th>video_error_or_removed</th>\n",
       "      <th>description</th>\n",
       "    </tr>\n",
       "  </thead>\n",
       "  <tbody>\n",
       "    <tr>\n",
       "      <th>0</th>\n",
       "      <td>2Vv-BfVoq4g</td>\n",
       "      <td>17.14.11</td>\n",
       "      <td>Ed Sheeran - Perfect (Official Music Video)</td>\n",
       "      <td>Ed Sheeran</td>\n",
       "      <td>10</td>\n",
       "      <td>2017-11-09T11:04:14.000Z</td>\n",
       "      <td>edsheeran|\"ed sheeran\"|\"acoustic\"|\"live\"|\"cove...</td>\n",
       "      <td>33523622</td>\n",
       "      <td>1634124</td>\n",
       "      <td>21082</td>\n",
       "      <td>85067</td>\n",
       "      <td>https://i.ytimg.com/vi/2Vv-BfVoq4g/default.jpg</td>\n",
       "      <td>False</td>\n",
       "      <td>False</td>\n",
       "      <td>False</td>\n",
       "      <td>🎧: https://ad.gt/yt-perfect\\n💰: https://atlant...</td>\n",
       "    </tr>\n",
       "    <tr>\n",
       "      <th>1</th>\n",
       "      <td>9wg3v-01yKQ</td>\n",
       "      <td>17.14.11</td>\n",
       "      <td>Harry Styles - Kiwi</td>\n",
       "      <td>HarryStylesVEVO</td>\n",
       "      <td>10</td>\n",
       "      <td>2017-11-08T13:00:01.000Z</td>\n",
       "      <td>Columbia|\"Harry Styles\"|\"Kiwi\"|\"Pop\"</td>\n",
       "      <td>9632678</td>\n",
       "      <td>810895</td>\n",
       "      <td>16139</td>\n",
       "      <td>59473</td>\n",
       "      <td>https://i.ytimg.com/vi/9wg3v-01yKQ/default.jpg</td>\n",
       "      <td>False</td>\n",
       "      <td>False</td>\n",
       "      <td>False</td>\n",
       "      <td>Harry Styles' self-titled debut album is avail...</td>\n",
       "    </tr>\n",
       "    <tr>\n",
       "      <th>2</th>\n",
       "      <td>n1WpP7iowLc</td>\n",
       "      <td>17.14.11</td>\n",
       "      <td>Eminem - Walk On Water (Audio) ft. Beyoncé</td>\n",
       "      <td>EminemVEVO</td>\n",
       "      <td>10</td>\n",
       "      <td>2017-11-10T17:00:03.000Z</td>\n",
       "      <td>Eminem|\"Walk\"|\"On\"|\"Water\"|\"Aftermath/Shady/In...</td>\n",
       "      <td>17158531</td>\n",
       "      <td>787419</td>\n",
       "      <td>43420</td>\n",
       "      <td>125882</td>\n",
       "      <td>https://i.ytimg.com/vi/n1WpP7iowLc/default.jpg</td>\n",
       "      <td>False</td>\n",
       "      <td>False</td>\n",
       "      <td>False</td>\n",
       "      <td>Eminem's new track Walk on Water ft. Beyoncé i...</td>\n",
       "    </tr>\n",
       "    <tr>\n",
       "      <th>3</th>\n",
       "      <td>g5c1bk8weaQ</td>\n",
       "      <td>17.14.11</td>\n",
       "      <td>FIRST TIME IM DOING THIS! TALKS WITH LIZA.</td>\n",
       "      <td>Liza Koshy</td>\n",
       "      <td>23</td>\n",
       "      <td>2017-11-10T03:43:43.000Z</td>\n",
       "      <td>liza|\"lizza\"|\"lizzza\"|\"lizzzavine\"|\"lizzzak\"|\"...</td>\n",
       "      <td>3578502</td>\n",
       "      <td>307435</td>\n",
       "      <td>2573</td>\n",
       "      <td>12248</td>\n",
       "      <td>https://i.ytimg.com/vi/g5c1bk8weaQ/default.jpg</td>\n",
       "      <td>False</td>\n",
       "      <td>False</td>\n",
       "      <td>False</td>\n",
       "      <td>Having kids, having anxiety and not having boo...</td>\n",
       "    </tr>\n",
       "    <tr>\n",
       "      <th>4</th>\n",
       "      <td>pz95u3UVpaM</td>\n",
       "      <td>17.14.11</td>\n",
       "      <td>Camila Cabello - Havana (Vertical Video) ft. Y...</td>\n",
       "      <td>CamilaCabelloVEVO</td>\n",
       "      <td>10</td>\n",
       "      <td>2017-11-10T05:01:00.000Z</td>\n",
       "      <td>camila cabello|\"camila\"|\"young thug\"|\"havana\"|...</td>\n",
       "      <td>5476737</td>\n",
       "      <td>286268</td>\n",
       "      <td>4083</td>\n",
       "      <td>12254</td>\n",
       "      <td>https://i.ytimg.com/vi/pz95u3UVpaM/default.jpg</td>\n",
       "      <td>False</td>\n",
       "      <td>False</td>\n",
       "      <td>False</td>\n",
       "      <td>Havana – Spotify Vertical Video \\nVideo Direct...</td>\n",
       "    </tr>\n",
       "  </tbody>\n",
       "</table>\n",
       "</div>"
      ],
      "text/plain": [
       "      video_id trending_date  \\\n",
       "0  2Vv-BfVoq4g      17.14.11   \n",
       "1  9wg3v-01yKQ      17.14.11   \n",
       "2  n1WpP7iowLc      17.14.11   \n",
       "3  g5c1bk8weaQ      17.14.11   \n",
       "4  pz95u3UVpaM      17.14.11   \n",
       "\n",
       "                                               title      channel_title  \\\n",
       "0        Ed Sheeran - Perfect (Official Music Video)         Ed Sheeran   \n",
       "1                                Harry Styles - Kiwi    HarryStylesVEVO   \n",
       "2         Eminem - Walk On Water (Audio) ft. Beyoncé         EminemVEVO   \n",
       "3         FIRST TIME IM DOING THIS! TALKS WITH LIZA.         Liza Koshy   \n",
       "4  Camila Cabello - Havana (Vertical Video) ft. Y...  CamilaCabelloVEVO   \n",
       "\n",
       "   category_id              publish_time  \\\n",
       "0           10  2017-11-09T11:04:14.000Z   \n",
       "1           10  2017-11-08T13:00:01.000Z   \n",
       "2           10  2017-11-10T17:00:03.000Z   \n",
       "3           23  2017-11-10T03:43:43.000Z   \n",
       "4           10  2017-11-10T05:01:00.000Z   \n",
       "\n",
       "                                                tags     views    likes  \\\n",
       "0  edsheeran|\"ed sheeran\"|\"acoustic\"|\"live\"|\"cove...  33523622  1634124   \n",
       "1               Columbia|\"Harry Styles\"|\"Kiwi\"|\"Pop\"   9632678   810895   \n",
       "2  Eminem|\"Walk\"|\"On\"|\"Water\"|\"Aftermath/Shady/In...  17158531   787419   \n",
       "3  liza|\"lizza\"|\"lizzza\"|\"lizzzavine\"|\"lizzzak\"|\"...   3578502   307435   \n",
       "4  camila cabello|\"camila\"|\"young thug\"|\"havana\"|...   5476737   286268   \n",
       "\n",
       "   dislikes  comment_count                                  thumbnail_link  \\\n",
       "0     21082          85067  https://i.ytimg.com/vi/2Vv-BfVoq4g/default.jpg   \n",
       "1     16139          59473  https://i.ytimg.com/vi/9wg3v-01yKQ/default.jpg   \n",
       "2     43420         125882  https://i.ytimg.com/vi/n1WpP7iowLc/default.jpg   \n",
       "3      2573          12248  https://i.ytimg.com/vi/g5c1bk8weaQ/default.jpg   \n",
       "4      4083          12254  https://i.ytimg.com/vi/pz95u3UVpaM/default.jpg   \n",
       "\n",
       "   comments_disabled  ratings_disabled  video_error_or_removed  \\\n",
       "0              False             False                   False   \n",
       "1              False             False                   False   \n",
       "2              False             False                   False   \n",
       "3              False             False                   False   \n",
       "4              False             False                   False   \n",
       "\n",
       "                                         description  \n",
       "0  🎧: https://ad.gt/yt-perfect\\n💰: https://atlant...  \n",
       "1  Harry Styles' self-titled debut album is avail...  \n",
       "2  Eminem's new track Walk on Water ft. Beyoncé i...  \n",
       "3  Having kids, having anxiety and not having boo...  \n",
       "4  Havana – Spotify Vertical Video \\nVideo Direct...  "
      ]
     },
     "execution_count": 13,
     "metadata": {},
     "output_type": "execute_result"
    }
   ],
   "source": [
    "import pandas as pd # Učitavanje pandas biblioteke pomoću koje ćemo učitati .csv fajl sa podacima\n",
    "import matplotlib.pyplot as plt # Učitavanje biblioteke za crtanje grafikona\n",
    "\n",
    "data = pd.read_csv(\"USvideos.csv\") # Učitavanje podataka i smeštanje u promenjljivu data\n",
    "data.head() # Prikaz prvih redova (tj. podataka o prvih 5 video sadržaja) za kratak pregled"
   ]
  },
  {
   "cell_type": "markdown",
   "metadata": {},
   "source": [
    "# 1. Određivanje bezuslovnih i uslovnih verovatnoća\n",
    "## <center>- Verovatnoća da video materijal pripada određenoj kategoriji (A)</center>\n",
    "## <center>&emsp;- Verovatnoća da video materijal ima bar milion pregleda (B)</center>\n",
    "## <center>&emsp;- Uslovna verovatnoća P(B|A), tj. da video ima bar milion pregleda pod uslovom da pripada određenoj kategoriji</center>"
   ]
  },
  {
   "cell_type": "code",
   "execution_count": 14,
   "metadata": {},
   "outputs": [
    {
     "name": "stdout",
     "output_type": "stream",
     "text": [
      "Verovatnoća da video sadržaj pripada određenoj kategoriji:\n"
     ]
    },
    {
     "data": {
      "image/png": "[encoded data removed]",
      "text/plain": [
       "<Figure size 864x648 with 1 Axes>"
      ]
     },
     "metadata": {
      "needs_background": "light"
     },
     "output_type": "display_data"
    }
   ],
   "source": [
    "category_count = data[\"category_id\"].value_counts() # Računanje broja video materijala u svakoj kategoriji\n",
    "\n",
    "P_video_to_belong_to_certain_category = pd.DataFrame((category_count/category_count.sum()).sort_index())\n",
    "# Kalkulacija verovatnoće po formuli (pojedinačne vrednosti/ukupan zbir) - sortirano po indeksu\n",
    "\n",
    "P_video_to_belong_to_certain_category.index = [\"Film i animacija\", \"Automobili i vozila\", \"Muzika\", \n",
    "                                               \"Ljubimci i životinje\",\"Sport\", \"Putovanja i događaji\", \"Video igrice\", \n",
    "                                               \"Ljudi i blogovi\", \"Komedija\", \"Zabava\", \"Vesti i politika\", \n",
    "                                               \"Uradi sam i stil života\", \"Edukacija\", \"Nauka i tehnologija\"]\n",
    "# Konverzija iz brojevnih indeksa u imena kategorija\n",
    "\n",
    "P_video_to_belong_to_certain_category.columns = [\"Verovatnoća pripadanja\"] #Imenovanje kolone\n",
    "\n",
    "print(\"Verovatnoća da video sadržaj pripada određenoj kategoriji:\")\n",
    "P_video_to_belong_to_certain_category.plot.bar(figsize=(12,9),fontsize=16) # Crtanje grafikona (12x9, veličina fonta 16)\n",
    "plt.xlabel(\"Kategorija video sadržaja\",fontsize=14) # Postavljanje labele na x osu (veličina fonta 14)\n",
    "plt.ylabel(\"Verovatnoća\",fontsize=22) # Postavljanje labele na y osu (veličina fonta 22)\n",
    "plt.show() # Prikaz grafikona"
   ]
  },
  {
   "cell_type": "markdown",
   "metadata": {},
   "source": [
    "## Na osnovu ovog grafikona vidimo da su tog dana bili najgledaniji sadržaji iz kategorije \"Muzike\" i \"Zabave\""
   ]
  },
  {
   "cell_type": "code",
   "execution_count": 15,
   "metadata": {},
   "outputs": [
    {
     "name": "stdout",
     "output_type": "stream",
     "text": [
      "Verovatnoća da video sadržaj ima bar 100k pregleda:\n"
     ]
    },
    {
     "data": {
      "image/png": "[encoded data removed]",
      "text/plain": [
       "<Figure size 864x648 with 1 Axes>"
      ]
     },
     "metadata": {
      "needs_background": "light"
     },
     "output_type": "display_data"
    }
   ],
   "source": [
    "views_over_milion_or_not_count = (data[\"views\"]>=100000).value_counts() \n",
    "# Računanje broja video materijala čiji je broj pregleda bar milion i onih koji taj uslov ne ispunjavaju\n",
    "\n",
    "P_video_has_over_million_views = views_over_milion_or_not_count/views_over_milion_or_not_count.sum() \n",
    "# Kalkulacija verovatnoće po formuli\n",
    "P_video_has_over_million_views.index = [\"Ima\",\"Nema\"] # Imenovanje indeksa\n",
    "print(\"Verovatnoća da video sadržaj ima bar 100k pregleda:\")\n",
    "P_video_has_over_million_views.plot.bar(figsize=(12,9),fontsize=16) # Crtanje grafikona\n",
    "plt.xlabel(\"____ bar 100k pregleda\", fontsize=14)\n",
    "plt.ylabel(\"Verovatnoća\",fontsize=22)\n",
    "plt.show() # Prikaz grafikona"
   ]
  },
  {
   "cell_type": "markdown",
   "metadata": {},
   "source": [
    "## Možemo zaključiti da će u 80% slučajeva video imati bar milion pregleda, što je nekako i očekivano za \"trending\" u zemlji koja ima veliku populaciju kao što je SAD."
   ]
  },
  {
   "cell_type": "code",
   "execution_count": 21,
   "metadata": {},
   "outputs": [
    {
     "name": "stdout",
     "output_type": "stream",
     "text": [
      "Verovatnoća da će video određene kategorije imati bar 100k pregleda:\n"
     ]
    },
    {
     "data": {
      "image/png": "[encoded data removed]",
      "text/plain": [
       "<Figure size 1440x720 with 1 Axes>"
      ]
     },
     "metadata": {
      "needs_background": "light"
     },
     "output_type": "display_data"
    }
   ],
   "source": [
    "data_views_over_milion_category = data.loc[data[\"views\"]>=100000, \"category_id\"]\n",
    "#Odvajanje video sadržaja koji imaju bar milion pregleda po kategorijama\n",
    "P_that_video_is_certain_category_under_condition_that_it_has_views_over_million = pd.DataFrame((data_views_over_milion_category.value_counts()/data_views_over_milion_category.shape[0]).sort_index())\n",
    "#Kalkulacija apriorne verovatoće po formuli sa sortiranim indeksom\n",
    "P_that_video_is_certain_category_under_condition_that_it_has_views_over_million.index = [\"Film i animacija\", \n",
    "                                                            \"Automobili i vozila\", \"Muzika\", \"Ljubimci i životinje\",\n",
    "                                     \"Sport\", \"Putovanja i događaji\", \"Video igrice\", \"Ljudi i blogovi\", \"Komedija\", \n",
    "                        \"Zabava\", \"Vesti i politika\", \"Uradi sam i stil života\", \"Edukacija\", \"Nauka i tehnologija\"]\n",
    "#Raspored je promenjen pa moramo da preimenujemo indekse ponovo\n",
    "P_that_video_is_certain_category_under_condition_that_it_has_views_over_million.columns=[\"Verovatnoća pripadanja\"]\n",
    "P_that_video_is_certain_category_under_condition_that_it_has_views_over_million.columns.name = \"Kategorija\"\n",
    "\n",
    "P_that_video_might_have_over_million_views_under_condition_it_is_certian_category = P_that_video_is_certain_category_under_condition_that_it_has_views_over_million * P_video_has_over_million_views.loc[\"Ima\"] / P_video_to_belong_to_certain_category\n",
    "#Kalkulacija aposterione verovatnoće po Bajesovoj formuli\n",
    "\n",
    "print(\"Verovatnoća da će video određene kategorije imati bar 100k pregleda:\")\n",
    "pd.DataFrame(P_that_video_might_have_over_million_views_under_condition_it_is_certian_category).plot.bar(figsize=(20,10), fontsize=14).legend(loc=\"best\")\n",
    "plt.show()"
   ]
  },
  {
   "cell_type": "markdown",
   "metadata": {},
   "source": [
    "## Ovaj grafikon nam pokazuje da je najveća šansa da video sadržaj iz kategorije \"Putovanja i događaj\" i \"Video igrice\" imaju najveću (i podjednaku) šansu da imaju preko 100k pregleda (tj. da budu najgledaniji tog dana), mada je odstupanje ostalih kategorija jako malo zbog malog broja uzoraka."
   ]
  },
  {
   "cell_type": "markdown",
   "metadata": {},
   "source": [
    "## 2. Estimacija parametara raspodela pojedinačnih promenljivih"
   ]
  },
  {
   "cell_type": "code",
   "execution_count": 17,
   "metadata": {},
   "outputs": [
    {
     "data": {
      "text/html": [
       "<div>\n",
       "<style scoped>\n",
       "    .dataframe tbody tr th:only-of-type {\n",
       "        vertical-align: middle;\n",
       "    }\n",
       "\n",
       "    .dataframe tbody tr th {\n",
       "        vertical-align: top;\n",
       "    }\n",
       "\n",
       "    .dataframe thead th {\n",
       "        text-align: right;\n",
       "    }\n",
       "</style>\n",
       "<table border=\"1\" class=\"dataframe\">\n",
       "  <thead>\n",
       "    <tr style=\"text-align: right;\">\n",
       "      <th></th>\n",
       "      <th>likes</th>\n",
       "      <th>dislikes</th>\n",
       "    </tr>\n",
       "  </thead>\n",
       "  <tbody>\n",
       "    <tr>\n",
       "      <th>count</th>\n",
       "      <td>2.000000e+02</td>\n",
       "      <td>200.00000</td>\n",
       "    </tr>\n",
       "    <tr>\n",
       "      <th>mean</th>\n",
       "      <td>3.818818e+04</td>\n",
       "      <td>1354.38000</td>\n",
       "    </tr>\n",
       "    <tr>\n",
       "      <th>std</th>\n",
       "      <td>1.439799e+05</td>\n",
       "      <td>4087.56599</td>\n",
       "    </tr>\n",
       "    <tr>\n",
       "      <th>min</th>\n",
       "      <td>0.000000e+00</td>\n",
       "      <td>0.00000</td>\n",
       "    </tr>\n",
       "    <tr>\n",
       "      <th>25%</th>\n",
       "      <td>1.967250e+03</td>\n",
       "      <td>68.25000</td>\n",
       "    </tr>\n",
       "    <tr>\n",
       "      <th>50%</th>\n",
       "      <td>7.361500e+03</td>\n",
       "      <td>200.00000</td>\n",
       "    </tr>\n",
       "    <tr>\n",
       "      <th>75%</th>\n",
       "      <td>2.019150e+04</td>\n",
       "      <td>946.25000</td>\n",
       "    </tr>\n",
       "    <tr>\n",
       "      <th>max</th>\n",
       "      <td>1.634124e+06</td>\n",
       "      <td>43420.00000</td>\n",
       "    </tr>\n",
       "  </tbody>\n",
       "</table>\n",
       "</div>"
      ],
      "text/plain": [
       "              likes     dislikes\n",
       "count  2.000000e+02    200.00000\n",
       "mean   3.818818e+04   1354.38000\n",
       "std    1.439799e+05   4087.56599\n",
       "min    0.000000e+00      0.00000\n",
       "25%    1.967250e+03     68.25000\n",
       "50%    7.361500e+03    200.00000\n",
       "75%    2.019150e+04    946.25000\n",
       "max    1.634124e+06  43420.00000"
      ]
     },
     "execution_count": 17,
     "metadata": {},
     "output_type": "execute_result"
    }
   ],
   "source": [
    "data_ep = pd.read_csv(\"USvideos.csv\", usecols=[\"likes\",\"dislikes\"]) #Odvajanje potrebnih kolona u zasebnu promenjljivu\n",
    "#print(data_ep.head())\n",
    "data_ep.describe() #Ispisivanje svih parametara raspodela"
   ]
  },
  {
   "cell_type": "markdown",
   "metadata": {},
   "source": [
    "## <center>Na osnovu ove tabele, možemo zaključiti sledeće:</center>\n",
    "### - Broj sviđanja je znatno veći od broja nesviđanja, što je očekivan rezultat.\n",
    "### - Nakon poslednjeg kvantila imamo nagli porast, što pokazuje da mali broj video sadržaja ima znatno veće reakcije, što pokazuje da četvrtina uzorka ima veću popularnost od ostatka, što i potvrđuje velika vrednost standardne devijacije."
   ]
  },
  {
   "cell_type": "markdown",
   "metadata": {},
   "source": [
    "# 3.Estimacija parametara združenih raspodela (kovarijansa i koeficijent korelacije)"
   ]
  },
  {
   "cell_type": "code",
   "execution_count": 18,
   "metadata": {},
   "outputs": [
    {
     "name": "stdout",
     "output_type": "stream",
     "text": [
      "Matrica kovarijanse: \n",
      "                  likes      dislikes\n",
      "likes     2.073022e+10  4.268718e+08\n",
      "dislikes  4.268718e+08  1.670820e+07\n",
      "\n",
      "Koeficijent korelacije:  0.7253218323955326\n"
     ]
    }
   ],
   "source": [
    "print(\"Matrica kovarijanse: \\n\", data_ep.cov())\n",
    "\n",
    "koef_korelacije=data_ep.cov()['likes']['dislikes']/(data_ep.cov()['likes']['likes']*data_ep.cov()['dislikes']['dislikes'])**0.5\n",
    "print(\"\\nKoeficijent korelacije: \", koef_korelacije)"
   ]
  },
  {
   "cell_type": "markdown",
   "metadata": {},
   "source": [
    "## <center>Pozitivan koeficijen korelacije znači da u proseku kako broj sviđanja raste, broj nesviđanja raste, što je i očekivan rezultat za video sadržaj koji su najgledaniji.</center>"
   ]
  },
  {
   "cell_type": "markdown",
   "metadata": {},
   "source": [
    "# 4. Testiranje parametarskih hipoteza (nad brojem komentara)\n",
    "\n",
    "## <center>Šapiro-Wilk test normalnost</center>\n",
    "### <center>- H0: Uzorak broja komentara je iz normalne raspodele </center>\n",
    "### <center>- H1: Uzorak broja komentara nije iz normalne raspodele</center>"
   ]
  },
  {
   "cell_type": "code",
   "execution_count": 19,
   "metadata": {},
   "outputs": [
    {
     "name": "stdout",
     "output_type": "stream",
     "text": [
      "   comment_count\n",
      "0          85067\n",
      "1          59473\n",
      "2         125882\n",
      "3          12248\n",
      "4          12254\n",
      "\n",
      "Testovi:\n",
      "Uzorak = 5:\n",
      "ShapiroResult(statistic=0.8470396995544434, pvalue=0.1853412389755249)\n",
      "Uzorak = 30: \n",
      "ShapiroResult(statistic=0.24679821729660034, pvalue=2.581339655916004e-11)\n",
      "Uzorak = 100:\n",
      "ShapiroResult(statistic=0.2905982732772827, pvalue=8.637863273388255e-20)\n",
      "Svi podaci:\n",
      "ShapiroResult(statistic=0.2602241039276123, pvalue=1.3435470255390074e-27)\n"
     ]
    }
   ],
   "source": [
    "from scipy.stats import shapiro #učitavanje modula za Šapiro-Wilk test iz biblioteke scipy.stats\n",
    "\n",
    "data_swt = pd.read_csv(\"USvideos.csv\", usecols=[\"comment_count\"]) #Odvajanje kolone sa brojem komentara u posebnu promenjljivu\n",
    "#inače formula za shapiro test se nalazi na wikipediji\n",
    "print(data_swt.head())\n",
    "print(\"\\nTestovi:\")\n",
    "print(\"Uzorak = 5:\")\n",
    "print(shapiro(data_swt.sample(5))) #treba proveriti da li se uzima vrednost samo ili još nešto\n",
    "print(\"Uzorak = 30: \")\n",
    "print(shapiro(data_swt.sample(30)))\n",
    "print(\"Uzorak = 100:\")\n",
    "print(shapiro(data_swt.sample(100)))\n",
    "print(\"Svi podaci:\")\n",
    "print(shapiro(data_swt)) #200 je ukupan broj uzoraka"
   ]
  },
  {
   "cell_type": "markdown",
   "metadata": {},
   "source": [
    "## <center>U prvom testu kada je broj uzoraka 5, odnostno jako mali, u nekim trenucima bi dobili da je p > 0.05, što bi značilo da je uzorak iz normalne raspodele i potvrdilo bi našu nultu hipotezu (H0). Međutim ako je broj uzoraka dovoljno velik (30,100 ili 200 kao u sledeća 3 testa), dobijamo suprotno, da je p < 0.05, pa je čak i ono jako malo (e^-27) u poslednjem slučaju. Na kraju možemo izvesti zaključak da broj komentara nije iz normalne raspodele, odnosno jako mali broj video sadržaja ima sličan broj komentara.</center>"
   ]
  },
  {
   "cell_type": "markdown",
   "metadata": {},
   "source": [
    "# 5. Primena višestruke linearne regresije \n",
    "## Poređenje zavisnosti broja pregleda od:\n",
    "## <center>- Broja komentara</center>\n",
    "## <center>- Broja reakcija (sviđanja i nesviđanja)</center>\n",
    "## <center>- Preseka broja reakcija i broja komentara</center>"
   ]
  },
  {
   "cell_type": "code",
   "execution_count": 20,
   "metadata": {
    "scrolled": true
   },
   "outputs": [
    {
     "name": "stdout",
     "output_type": "stream",
     "text": [
      "      views    likes  dislikes  comment_count\n",
      "0  33523622  1634124     21082          85067\n",
      "1   9632678   810895     16139          59473\n",
      "2  17158531   787419     43420         125882\n",
      "3   3578502   307435      2573          12248\n",
      "4   5476737   286268      4083          12254\n",
      "\n",
      "\n",
      "\n",
      "                            OLS Regression Results                            \n",
      "==============================================================================\n",
      "Dep. Variable:                  views   R-squared:                       0.706\n",
      "Model:                            OLS   Adj. R-squared:                  0.705\n",
      "Method:                 Least Squares   F-statistic:                     476.4\n",
      "Date:                Fri, 27 Nov 2020   Prob (F-statistic):           1.36e-54\n",
      "Time:                        15:13:16   Log-Likelihood:                -3136.7\n",
      "No. Observations:                 200   AIC:                             6277.\n",
      "Df Residuals:                     198   BIC:                             6284.\n",
      "Df Model:                           1                                         \n",
      "Covariance Type:            nonrobust                                         \n",
      "=================================================================================\n",
      "                    coef    std err          t      P>|t|      [0.025      0.975]\n",
      "---------------------------------------------------------------------------------\n",
      "Intercept      2.152e+05   1.16e+05      1.855      0.065   -1.36e+04    4.44e+05\n",
      "comment_count   205.9408      9.435     21.827      0.000     187.335     224.547\n",
      "==============================================================================\n",
      "Omnibus:                      246.663   Durbin-Watson:                   1.656\n",
      "Prob(Omnibus):                  0.000   Jarque-Bera (JB):            27687.123\n",
      "Skew:                           4.686   Prob(JB):                         0.00\n",
      "Kurtosis:                      59.874   Cond. No.                     1.28e+04\n",
      "==============================================================================\n",
      "\n",
      "Warnings:\n",
      "[1] Standard Errors assume that the covariance matrix of the errors is correctly specified.\n",
      "[2] The condition number is large, 1.28e+04. This might indicate that there are\n",
      "strong multicollinearity or other numerical problems.\n",
      "\n",
      "\n",
      "                            OLS Regression Results                            \n",
      "==============================================================================\n",
      "Dep. Variable:                  views   R-squared:                       0.923\n",
      "Model:                            OLS   Adj. R-squared:                  0.923\n",
      "Method:                 Least Squares   F-statistic:                     1187.\n",
      "Date:                Fri, 27 Nov 2020   Prob (F-statistic):          1.26e-110\n",
      "Time:                        15:13:16   Log-Likelihood:                -3002.4\n",
      "No. Observations:                 200   AIC:                             6011.\n",
      "Df Residuals:                     197   BIC:                             6021.\n",
      "Df Model:                           2                                         \n",
      "Covariance Type:            nonrobust                                         \n",
      "==============================================================================\n",
      "                 coef    std err          t      P>|t|      [0.025      0.975]\n",
      "------------------------------------------------------------------------------\n",
      "Intercept   1.278e+05   6.01e+04      2.126      0.035    9254.192    2.46e+05\n",
      "likes         16.8534      0.577     29.215      0.000      15.716      17.991\n",
      "dislikes     114.9836     20.320      5.659      0.000      74.912     155.055\n",
      "==============================================================================\n",
      "Omnibus:                       80.543   Durbin-Watson:                   2.202\n",
      "Prob(Omnibus):                  0.000   Jarque-Bera (JB):             6555.683\n",
      "Skew:                           0.364   Prob(JB):                         0.00\n",
      "Kurtosis:                      31.038   Cond. No.                     1.57e+05\n",
      "==============================================================================\n",
      "\n",
      "Warnings:\n",
      "[1] Standard Errors assume that the covariance matrix of the errors is correctly specified.\n",
      "[2] The condition number is large, 1.57e+05. This might indicate that there are\n",
      "strong multicollinearity or other numerical problems.\n",
      "\n",
      "\n",
      "                            OLS Regression Results                            \n",
      "==============================================================================\n",
      "Dep. Variable:                  views   R-squared:                       0.937\n",
      "Model:                            OLS   Adj. R-squared:                  0.936\n",
      "Method:                 Least Squares   F-statistic:                     722.6\n",
      "Date:                Fri, 27 Nov 2020   Prob (F-statistic):          1.09e-115\n",
      "Time:                        15:13:16   Log-Likelihood:                -2983.2\n",
      "No. Observations:                 200   AIC:                             5976.\n",
      "Df Residuals:                     195   BIC:                             5993.\n",
      "Df Model:                           4                                         \n",
      "Covariance Type:            nonrobust                                         \n",
      "==================================================================================\n",
      "                     coef    std err          t      P>|t|      [0.025      0.975]\n",
      "----------------------------------------------------------------------------------\n",
      "Intercept       2.214e+05   6.12e+04      3.620      0.000    1.01e+05    3.42e+05\n",
      "likes             17.5237      0.893     19.633      0.000      15.763      19.284\n",
      "dislikes         220.3659     29.396      7.497      0.000     162.391     278.340\n",
      "likes:dislikes     0.0002   5.12e-05      3.973      0.000       0.000       0.000\n",
      "comment_count   -103.7678     16.258     -6.383      0.000    -135.831     -71.704\n",
      "==============================================================================\n",
      "Omnibus:                       72.259   Durbin-Watson:                   1.901\n",
      "Prob(Omnibus):                  0.000   Jarque-Bera (JB):             3319.931\n",
      "Skew:                           0.412   Prob(JB):                         0.00\n",
      "Kurtosis:                      22.943   Cond. No.                     4.19e+09\n",
      "==============================================================================\n",
      "\n",
      "Warnings:\n",
      "[1] Standard Errors assume that the covariance matrix of the errors is correctly specified.\n",
      "[2] The condition number is large, 4.19e+09. This might indicate that there are\n",
      "strong multicollinearity or other numerical problems.\n"
     ]
    }
   ],
   "source": [
    "from statsmodels.formula.api import ols # Učitavanje biiblioteke za linearnu regresiju (ordinary least square)\n",
    "\n",
    "data_reg = pd.read_csv(\"USvideos.csv\", usecols=[\"views\",\"likes\",\"dislikes\",\"comment_count\"]) \n",
    "#Učitavnje potrebnih podataka u novu promenjljivu\n",
    "\n",
    "print(data_reg.head())\n",
    "print(\"\\n\\n\")\n",
    "\n",
    "model1 = ols(\"views ~ comment_count\", data_reg).fit() #model koji je zavisan od broja komentara\n",
    "print(model1.summary())\n",
    "print(\"\\n\")\n",
    "model2 = ols(\"views ~ likes + dislikes\", data_reg).fit()  # model zavisan od broja sviđanja i ne sviđanja\n",
    "print(model2.summary())\n",
    "print(\"\\n\")\n",
    "model3 = ols(\"views ~ likes * dislikes + comment_count\", data_reg).fit()  \n",
    "# model zavisan od preseka broja sviđanja i nesvidjanja i broja komentara\n",
    "print(model3.summary())"
   ]
  },
  {
   "cell_type": "markdown",
   "metadata": {},
   "source": [
    "### <center>U sva tri modela je vrednost za F-statistic veoma velik, a shodno tome i Prob vrednost veoma mala, možemo odbaciti nultu hipotezu da je broj pregleda nezavisan od ostalih pokazitelja (broja komentara, broja sviđanja i broja ne sviđanja) što je sasvim očeikivano. Takođe P>|t| = 0.000, a i Skew nije 0 => da nije normalna raspodela, što se slaže sa testiranom hipotezom iz tačke 4. Najbolji model je prvi (odnosno model vezan sa brojem komentara) jer ima najveće vrednosti za AIC i BIC, kao i za R-squared.</center>"
   ]
  },
  {
   "cell_type": "markdown",
   "metadata": {},
   "source": [
    "# <center>Uspešno odbranjeno 27.11.2020. 14:15-14:30h, <font color='red'>30</font>/30 bodova</center>"
   ]
  }
 ],
 "metadata": {
  "kernelspec": {
   "display_name": "Python 3",
   "language": "python",
   "name": "python3"
  },
  "language_info": {
   "codemirror_mode": {
    "name": "ipython",
    "version": 3
   },
   "file_extension": ".py",
   "mimetype": "text/x-python",
   "name": "python",
   "nbconvert_exporter": "python",
   "pygments_lexer": "ipython3",
   "version": "3.8.3"
  }
 },
 "nbformat": 4,
 "nbformat_minor": 4
}
